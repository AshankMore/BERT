{
  "nbformat": 4,
  "nbformat_minor": 0,
  "metadata": {
    "kernelspec": {
      "display_name": "Python 3",
      "language": "python",
      "name": "python3"
    },
    "language_info": {
      "codemirror_mode": {
        "name": "ipython",
        "version": 3
      },
      "file_extension": ".py",
      "mimetype": "text/x-python",
      "name": "python",
      "nbconvert_exporter": "python",
      "pygments_lexer": "ipython3",
      "version": "3.7.3"
    },
    "colab": {
      "name": "BERT.ipynb",
      "provenance": []
    }
  },
  "cells": [
    {
      "cell_type": "code",
      "metadata": {
        "id": "yK9nm0tyr5K0"
      },
      "source": [
        "import pandas as pd\n",
        "import numpy as np\n"
      ],
      "execution_count": null,
      "outputs": []
    },
    {
      "cell_type": "code",
      "metadata": {
        "id": "5q4ugaqsr5K5"
      },
      "source": [
        "tweets = pd.read_csv('train_E6oV31V.csv')\n",
        "tweets.shape"
      ],
      "execution_count": null,
      "outputs": []
    },
    {
      "cell_type": "code",
      "metadata": {
        "id": "OFzjvKpHr5K8"
      },
      "source": [
        "import re\n",
        "\n",
        "def clean_text(text):\n",
        "    text =re.sub(r'[^a-zA-Z\\']',' ', text)\n",
        "    text = re.sub(r'[^\\x00-\\x7F]+','',text)\n",
        "    text = text.lower()\n",
        "    \n",
        "    return text"
      ],
      "execution_count": null,
      "outputs": []
    },
    {
      "cell_type": "code",
      "metadata": {
        "id": "Sls0Yab5r5K_"
      },
      "source": [
        "tweets['clean_text'] = tweets.tweet.apply(clean_text)"
      ],
      "execution_count": null,
      "outputs": []
    },
    {
      "cell_type": "code",
      "metadata": {
        "id": "jpIlbVYWr5LD"
      },
      "source": [
        "from sklearn.model_selection import train_test"
      ],
      "execution_count": null,
      "outputs": []
    },
    {
      "cell_type": "code",
      "metadata": {
        "id": "EN2HLUIRr5LG"
      },
      "source": [
        "X_train, X_val, y_train, y_val = train_test_split(tweets.clean_text, tweets.last_size = 0.25, random_state = 42)"
      ],
      "execution_count": null,
      "outputs": []
    },
    {
      "cell_type": "code",
      "metadata": {
        "id": "QKtqc6ysr5LK"
      },
      "source": [
        "print('X_train shape: ', X_train.shape)"
      ],
      "execution_count": null,
      "outputs": []
    },
    {
      "cell_type": "code",
      "metadata": {
        "id": "OTiD_CiXr5LO"
      },
      "source": [
        "from bert_serving.client import BertClient\n",
        "bc = BertClient()"
      ],
      "execution_count": null,
      "outputs": []
    },
    {
      "cell_type": "code",
      "metadata": {
        "id": "uvcFsFYrr5LR"
      },
      "source": [
        "X_train_bert = bc.encode(X_train.tolist())\n",
        "X_val_bert = bc.encode(X_val.tolist())"
      ],
      "execution_count": null,
      "outputs": []
    },
    {
      "cell_type": "code",
      "metadata": {
        "id": "YhA1vOYhr5LU"
      },
      "source": [
        "from sklearn.linear_model import LogisticRegression"
      ],
      "execution_count": null,
      "outputs": []
    },
    {
      "cell_type": "code",
      "metadata": {
        "id": "XCujSRK8r5LW"
      },
      "source": [
        "model_bert = LogisticRegression()"
      ],
      "execution_count": null,
      "outputs": []
    },
    {
      "cell_type": "code",
      "metadata": {
        "id": "KqUootZOr5LZ"
      },
      "source": [
        "model_bert = model_bert.fit(X_train_bert, y_train)"
      ],
      "execution_count": null,
      "outputs": []
    },
    {
      "cell_type": "code",
      "metadata": {
        "id": "91aCeaJpr5Lb"
      },
      "source": [
        "pred_bert = model_bert.predict(X_val_bert)"
      ],
      "execution_count": null,
      "outputs": []
    },
    {
      "cell_type": "code",
      "metadata": {
        "id": "93ssNMggr5Le"
      },
      "source": [
        "from sklearn.metrics import accuracy_score\n",
        "\n",
        "print(accuracy_score(y_val, pred_bert))"
      ],
      "execution_count": null,
      "outputs": []
    }
  ]
}